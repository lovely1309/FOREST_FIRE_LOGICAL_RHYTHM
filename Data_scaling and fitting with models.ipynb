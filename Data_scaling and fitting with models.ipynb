{
 "cells": [
  {
   "cell_type": "code",
   "execution_count": 2,
   "metadata": {},
   "outputs": [
    {
     "name": "stderr",
     "output_type": "stream",
     "text": [
      "/home/saurabh/anaconda3/lib/python3.6/site-packages/sklearn/cross_validation.py:41: DeprecationWarning: This module was deprecated in version 0.18 in favor of the model_selection module into which all the refactored classes and functions are moved. Also note that the interface of the new CV iterators are different from that of this module. This module will be removed in 0.20.\n",
      "  \"This module will be removed in 0.20.\", DeprecationWarning)\n"
     ]
    }
   ],
   "source": [
    "import pandas \n",
    "import numpy\n",
    "\n",
    "from sklearn.ensemble import RandomForestRegressor\n",
    "\n",
    "from sklearn.feature_selection import RFE\n",
    "from sklearn.ensemble import ExtraTreesRegressor\n",
    "from sklearn.metrics import mean_squared_error\n",
    "from math import sqrt\n",
    "from sklearn.model_selection import train_test_split\n",
    "\n",
    "import matplotlib.pyplot as plt\n",
    "from pandas.tools.plotting import scatter_matrix\n",
    "from sklearn.preprocessing import MinMaxScaler\n",
    "from sklearn.linear_model import LinearRegression\n",
    "from sklearn.linear_model import Ridge\n",
    "from sklearn.linear_model import Lasso\n",
    "from sklearn.linear_model import ElasticNet\n",
    "from sklearn.ensemble import BaggingRegressor\n",
    "from sklearn.ensemble import AdaBoostRegressor\n",
    "from sklearn.ensemble import RandomForestRegressor\n",
    "from sklearn.ensemble import ExtraTreesRegressor\n",
    "from sklearn.tree import DecisionTreeRegressor\n",
    "\n",
    "from sklearn.svm import SVR\n",
    "\n",
    "from sklearn import cross_validation, tree, linear_model\n",
    "from sklearn.model_selection import train_test_split\n",
    "from sklearn.model_selection import cross_val_score\n",
    "from sklearn import ensemble\n",
    "\n",
    "%matplotlib inline"
   ]
  },
  {
   "cell_type": "code",
   "execution_count": 3,
   "metadata": {
    "colab": {},
    "colab_type": "code",
    "id": "Ac1U3ffjvOeF"
   },
   "outputs": [],
   "source": [
    "seed = 7\n",
    "numpy.random.seed(seed)"
   ]
  },
  {
   "cell_type": "code",
   "execution_count": null,
   "metadata": {},
   "outputs": [],
   "source": []
  },
  {
   "cell_type": "code",
   "execution_count": 4,
   "metadata": {
    "colab": {
     "base_uri": "https://localhost:8080/",
     "height": 1105
    },
    "colab_type": "code",
    "id": "631u9UufmJUe",
    "outputId": "c0cb5d30-86d0-4680-9e09-04d04aee8c64"
   },
   "outputs": [],
   "source": [
    "\n",
    "fdata=pandas.read_csv(\"train.csv\")\n"
   ]
  },
  {
   "cell_type": "markdown",
   "metadata": {},
   "source": [
    "# Variables are:\n",
    "#1. X - x-axis spatial coordinate within the\n",
    "Montesinho park map: 1 to 9\n",
    "#2. Y - y-axis spatial coordinate within the\n",
    "Montesinho park map: 2 to 9\n",
    "#3. month - month of the year: ’jan’ to ’dec’\n",
    "#4. day - day of the week: ’mon’ to ’sun’\n",
    "#5. FFMC - FFMC index from the FWI system: 18.7 to 96.20\n",
    "#6. DMC - DMC index from the FWI system: 1.1 to 291.3\n",
    "#7. DC - DC index from the FWI system: 7.9 to 860.6\n",
    "#8. ISI - ISI index from the FWI system: 0.0 to 56.10\n",
    "#9. temp - temperature in Celsius degrees: 2.2 to 33.30\n",
    "#10. RH - relative humidity in %: 15.0 to 100\n",
    "#11. wind - wind speed in km/h: 0.40 to 9.40\n",
    "#12. rain - outside rain in mm/m2 : 0.0 to 6.4\n",
    "\n",
    "FFMC - Fine Fuel Moisture Code\n",
    "\n",
    "DMC - Duff Moisture Code\n",
    "\n",
    "DC - Drought Code\n",
    "\n",
    "ISI - Initial Spread Index"
   ]
  },
  {
   "cell_type": "code",
   "execution_count": null,
   "metadata": {},
   "outputs": [],
   "source": []
  },
  {
   "cell_type": "code",
   "execution_count": 5,
   "metadata": {
    "colab": {},
    "colab_type": "code",
    "id": "V9MHbSkEt-Lj"
   },
   "outputs": [],
   "source": [
    "fdata.columns = [ \"x_coord\", \"y_coord\", \"month\", \"day\", \"ffmc\", \"dmc\", \"dc\", \"isi\", \"temp\",\n",
    "              \"rh\", \"wind\", \"rain\", \"area\" ]\n",
    "\n"
   ]
  },
  {
   "cell_type": "code",
   "execution_count": 6,
   "metadata": {},
   "outputs": [],
   "source": [
    "from sklearn.preprocessing import LabelEncoder\n",
    "\n",
    "le_month = LabelEncoder()\n",
    "fdata[\"month\"] = le_month.fit_transform(fdata[\"month\"])\n",
    "\n",
    "le_day = LabelEncoder()\n",
    "fdata[\"day\"] = le_day.fit_transform(fdata[\"day\"])"
   ]
  },
  {
   "cell_type": "code",
   "execution_count": 7,
   "metadata": {},
   "outputs": [
    {
     "data": {
      "text/html": [
       "<div>\n",
       "<style scoped>\n",
       "    .dataframe tbody tr th:only-of-type {\n",
       "        vertical-align: middle;\n",
       "    }\n",
       "\n",
       "    .dataframe tbody tr th {\n",
       "        vertical-align: top;\n",
       "    }\n",
       "\n",
       "    .dataframe thead th {\n",
       "        text-align: right;\n",
       "    }\n",
       "</style>\n",
       "<table border=\"1\" class=\"dataframe\">\n",
       "  <thead>\n",
       "    <tr style=\"text-align: right;\">\n",
       "      <th></th>\n",
       "      <th>x_coord</th>\n",
       "      <th>y_coord</th>\n",
       "      <th>month</th>\n",
       "      <th>day</th>\n",
       "      <th>ffmc</th>\n",
       "      <th>dmc</th>\n",
       "      <th>dc</th>\n",
       "      <th>isi</th>\n",
       "      <th>temp</th>\n",
       "      <th>rh</th>\n",
       "      <th>wind</th>\n",
       "      <th>rain</th>\n",
       "    </tr>\n",
       "  </thead>\n",
       "  <tbody>\n",
       "    <tr>\n",
       "      <th>0</th>\n",
       "      <td>1.014859</td>\n",
       "      <td>0.565490</td>\n",
       "      <td>0.453343</td>\n",
       "      <td>-1.431210</td>\n",
       "      <td>-0.819008</td>\n",
       "      <td>-1.305249</td>\n",
       "      <td>-1.816799</td>\n",
       "      <td>-0.865302</td>\n",
       "      <td>-1.845231</td>\n",
       "      <td>0.392644</td>\n",
       "      <td>1.511376</td>\n",
       "      <td>-0.078565</td>\n",
       "    </tr>\n",
       "    <tr>\n",
       "      <th>1</th>\n",
       "      <td>1.014859</td>\n",
       "      <td>-0.245708</td>\n",
       "      <td>0.964136</td>\n",
       "      <td>1.147495</td>\n",
       "      <td>-0.018636</td>\n",
       "      <td>-1.165781</td>\n",
       "      <td>0.486415</td>\n",
       "      <td>-0.520945</td>\n",
       "      <td>-0.170855</td>\n",
       "      <td>-0.714983</td>\n",
       "      <td>-1.798906</td>\n",
       "      <td>-0.078565</td>\n",
       "    </tr>\n",
       "    <tr>\n",
       "      <th>2</th>\n",
       "      <td>1.443122</td>\n",
       "      <td>1.376689</td>\n",
       "      <td>0.453343</td>\n",
       "      <td>-1.431210</td>\n",
       "      <td>0.181457</td>\n",
       "      <td>-1.197616</td>\n",
       "      <td>-1.884116</td>\n",
       "      <td>-0.025932</td>\n",
       "      <td>-1.828145</td>\n",
       "      <td>3.223248</td>\n",
       "      <td>-0.029617</td>\n",
       "      <td>0.551360</td>\n",
       "    </tr>\n",
       "    <tr>\n",
       "      <th>3</th>\n",
       "      <td>1.443122</td>\n",
       "      <td>1.376689</td>\n",
       "      <td>-1.079036</td>\n",
       "      <td>0.116013</td>\n",
       "      <td>0.290599</td>\n",
       "      <td>-0.409318</td>\n",
       "      <td>-0.239250</td>\n",
       "      <td>1.200839</td>\n",
       "      <td>0.546735</td>\n",
       "      <td>-0.961122</td>\n",
       "      <td>0.769416</td>\n",
       "      <td>-0.078565</td>\n",
       "    </tr>\n",
       "    <tr>\n",
       "      <th>4</th>\n",
       "      <td>1.443122</td>\n",
       "      <td>1.376689</td>\n",
       "      <td>-1.079036</td>\n",
       "      <td>-0.915469</td>\n",
       "      <td>0.290599</td>\n",
       "      <td>-0.354744</td>\n",
       "      <td>-0.208797</td>\n",
       "      <td>-0.133544</td>\n",
       "      <td>0.871359</td>\n",
       "      <td>-1.084192</td>\n",
       "      <td>-0.543282</td>\n",
       "      <td>-0.078565</td>\n",
       "    </tr>\n",
       "  </tbody>\n",
       "</table>\n",
       "</div>"
      ],
      "text/plain": [
       "    x_coord   y_coord     month       day      ffmc       dmc        dc  \\\n",
       "0  1.014859  0.565490  0.453343 -1.431210 -0.819008 -1.305249 -1.816799   \n",
       "1  1.014859 -0.245708  0.964136  1.147495 -0.018636 -1.165781  0.486415   \n",
       "2  1.443122  1.376689  0.453343 -1.431210  0.181457 -1.197616 -1.884116   \n",
       "3  1.443122  1.376689 -1.079036  0.116013  0.290599 -0.409318 -0.239250   \n",
       "4  1.443122  1.376689 -1.079036 -0.915469  0.290599 -0.354744 -0.208797   \n",
       "\n",
       "        isi      temp        rh      wind      rain  \n",
       "0 -0.865302 -1.845231  0.392644  1.511376 -0.078565  \n",
       "1 -0.520945 -0.170855 -0.714983 -1.798906 -0.078565  \n",
       "2 -0.025932 -1.828145  3.223248 -0.029617  0.551360  \n",
       "3  1.200839  0.546735 -0.961122  0.769416 -0.078565  \n",
       "4 -0.133544  0.871359 -1.084192 -0.543282 -0.078565  "
      ]
     },
     "execution_count": 7,
     "metadata": {},
     "output_type": "execute_result"
    }
   ],
   "source": [
    "y = fdata.pop(\"area\")\n",
    "fdata=fdata-fdata.mean()\n",
    "fdata=fdata/fdata.std()\n",
    "fdata.head()"
   ]
  },
  {
   "cell_type": "code",
   "execution_count": 8,
   "metadata": {},
   "outputs": [
    {
     "data": {
      "text/html": [
       "<div>\n",
       "<style scoped>\n",
       "    .dataframe tbody tr th:only-of-type {\n",
       "        vertical-align: middle;\n",
       "    }\n",
       "\n",
       "    .dataframe tbody tr th {\n",
       "        vertical-align: top;\n",
       "    }\n",
       "\n",
       "    .dataframe thead th {\n",
       "        text-align: right;\n",
       "    }\n",
       "</style>\n",
       "<table border=\"1\" class=\"dataframe\">\n",
       "  <thead>\n",
       "    <tr style=\"text-align: right;\">\n",
       "      <th></th>\n",
       "      <th>x_coord</th>\n",
       "      <th>y_coord</th>\n",
       "      <th>month</th>\n",
       "      <th>day</th>\n",
       "      <th>ffmc</th>\n",
       "      <th>dmc</th>\n",
       "      <th>dc</th>\n",
       "      <th>isi</th>\n",
       "      <th>temp</th>\n",
       "      <th>rh</th>\n",
       "      <th>wind</th>\n",
       "      <th>rain</th>\n",
       "    </tr>\n",
       "  </thead>\n",
       "  <tbody>\n",
       "    <tr>\n",
       "      <th>count</th>\n",
       "      <td>4.490000e+02</td>\n",
       "      <td>4.490000e+02</td>\n",
       "      <td>4.490000e+02</td>\n",
       "      <td>4.490000e+02</td>\n",
       "      <td>4.490000e+02</td>\n",
       "      <td>4.490000e+02</td>\n",
       "      <td>4.490000e+02</td>\n",
       "      <td>4.490000e+02</td>\n",
       "      <td>4.490000e+02</td>\n",
       "      <td>4.490000e+02</td>\n",
       "      <td>4.490000e+02</td>\n",
       "      <td>4.490000e+02</td>\n",
       "    </tr>\n",
       "    <tr>\n",
       "      <th>mean</th>\n",
       "      <td>-2.388587e-16</td>\n",
       "      <td>1.321635e-16</td>\n",
       "      <td>2.828720e-16</td>\n",
       "      <td>2.991915e-17</td>\n",
       "      <td>4.389622e-14</td>\n",
       "      <td>-7.180596e-16</td>\n",
       "      <td>-1.127532e-15</td>\n",
       "      <td>3.785638e-16</td>\n",
       "      <td>1.422149e-15</td>\n",
       "      <td>-1.854493e-16</td>\n",
       "      <td>-2.744649e-17</td>\n",
       "      <td>1.149786e-16</td>\n",
       "    </tr>\n",
       "    <tr>\n",
       "      <th>std</th>\n",
       "      <td>1.000000e+00</td>\n",
       "      <td>1.000000e+00</td>\n",
       "      <td>1.000000e+00</td>\n",
       "      <td>1.000000e+00</td>\n",
       "      <td>1.000000e+00</td>\n",
       "      <td>1.000000e+00</td>\n",
       "      <td>1.000000e+00</td>\n",
       "      <td>1.000000e+00</td>\n",
       "      <td>1.000000e+00</td>\n",
       "      <td>1.000000e+00</td>\n",
       "      <td>1.000000e+00</td>\n",
       "      <td>1.000000e+00</td>\n",
       "    </tr>\n",
       "    <tr>\n",
       "      <th>min</th>\n",
       "      <td>-1.554718e+00</td>\n",
       "      <td>-1.868106e+00</td>\n",
       "      <td>-1.334433e+00</td>\n",
       "      <td>-1.431210e+00</td>\n",
       "      <td>-1.309744e+01</td>\n",
       "      <td>-1.685754e+00</td>\n",
       "      <td>-2.163002e+00</td>\n",
       "      <td>-1.962939e+00</td>\n",
       "      <td>-2.870359e+00</td>\n",
       "      <td>-1.822610e+00</td>\n",
       "      <td>-1.798906e+00</td>\n",
       "      <td>-7.856529e-02</td>\n",
       "    </tr>\n",
       "    <tr>\n",
       "      <th>25%</th>\n",
       "      <td>-6.981923e-01</td>\n",
       "      <td>-2.457083e-01</td>\n",
       "      <td>-1.079036e+00</td>\n",
       "      <td>-9.154692e-01</td>\n",
       "      <td>-9.139700e-02</td>\n",
       "      <td>-6.624831e-01</td>\n",
       "      <td>-4.408010e-01</td>\n",
       "      <td>-5.639897e-01</td>\n",
       "      <td>-5.638206e-01</td>\n",
       "      <td>-7.149829e-01</td>\n",
       "      <td>-7.715771e-01</td>\n",
       "      <td>-7.856529e-02</td>\n",
       "    </tr>\n",
       "    <tr>\n",
       "      <th>50%</th>\n",
       "      <td>-2.699295e-01</td>\n",
       "      <td>-2.457083e-01</td>\n",
       "      <td>-5.745000e-02</td>\n",
       "      <td>1.160130e-01</td>\n",
       "      <td>1.632668e-01</td>\n",
       "      <td>-6.519625e-02</td>\n",
       "      <td>4.427385e-01</td>\n",
       "      <td>-1.550660e-01</td>\n",
       "      <td>6.834189e-02</td>\n",
       "      <td>-1.611692e-01</td>\n",
       "      <td>-2.961738e-02</td>\n",
       "      <td>-7.856529e-02</td>\n",
       "    </tr>\n",
       "    <tr>\n",
       "      <th>75%</th>\n",
       "      <td>1.014859e+00</td>\n",
       "      <td>5.654904e-01</td>\n",
       "      <td>1.219533e+00</td>\n",
       "      <td>6.317542e-01</td>\n",
       "      <td>3.997403e-01</td>\n",
       "      <td>4.562927e-01</td>\n",
       "      <td>6.707357e-01</td>\n",
       "      <td>3.614692e-01</td>\n",
       "      <td>6.492479e-01</td>\n",
       "      <td>5.772490e-01</td>\n",
       "      <td>4.840471e-01</td>\n",
       "      <td>-7.856529e-02</td>\n",
       "    </tr>\n",
       "    <tr>\n",
       "      <th>max</th>\n",
       "      <td>1.871384e+00</td>\n",
       "      <td>3.810285e+00</td>\n",
       "      <td>1.219533e+00</td>\n",
       "      <td>1.663236e+00</td>\n",
       "      <td>1.000019e+00</td>\n",
       "      <td>2.713552e+00</td>\n",
       "      <td>1.253752e+00</td>\n",
       "      <td>1.011107e+01</td>\n",
       "      <td>2.443222e+00</td>\n",
       "      <td>3.407852e+00</td>\n",
       "      <td>3.052369e+00</td>\n",
       "      <td>2.007904e+01</td>\n",
       "    </tr>\n",
       "  </tbody>\n",
       "</table>\n",
       "</div>"
      ],
      "text/plain": [
       "            x_coord       y_coord         month           day          ffmc  \\\n",
       "count  4.490000e+02  4.490000e+02  4.490000e+02  4.490000e+02  4.490000e+02   \n",
       "mean  -2.388587e-16  1.321635e-16  2.828720e-16  2.991915e-17  4.389622e-14   \n",
       "std    1.000000e+00  1.000000e+00  1.000000e+00  1.000000e+00  1.000000e+00   \n",
       "min   -1.554718e+00 -1.868106e+00 -1.334433e+00 -1.431210e+00 -1.309744e+01   \n",
       "25%   -6.981923e-01 -2.457083e-01 -1.079036e+00 -9.154692e-01 -9.139700e-02   \n",
       "50%   -2.699295e-01 -2.457083e-01 -5.745000e-02  1.160130e-01  1.632668e-01   \n",
       "75%    1.014859e+00  5.654904e-01  1.219533e+00  6.317542e-01  3.997403e-01   \n",
       "max    1.871384e+00  3.810285e+00  1.219533e+00  1.663236e+00  1.000019e+00   \n",
       "\n",
       "                dmc            dc           isi          temp            rh  \\\n",
       "count  4.490000e+02  4.490000e+02  4.490000e+02  4.490000e+02  4.490000e+02   \n",
       "mean  -7.180596e-16 -1.127532e-15  3.785638e-16  1.422149e-15 -1.854493e-16   \n",
       "std    1.000000e+00  1.000000e+00  1.000000e+00  1.000000e+00  1.000000e+00   \n",
       "min   -1.685754e+00 -2.163002e+00 -1.962939e+00 -2.870359e+00 -1.822610e+00   \n",
       "25%   -6.624831e-01 -4.408010e-01 -5.639897e-01 -5.638206e-01 -7.149829e-01   \n",
       "50%   -6.519625e-02  4.427385e-01 -1.550660e-01  6.834189e-02 -1.611692e-01   \n",
       "75%    4.562927e-01  6.707357e-01  3.614692e-01  6.492479e-01  5.772490e-01   \n",
       "max    2.713552e+00  1.253752e+00  1.011107e+01  2.443222e+00  3.407852e+00   \n",
       "\n",
       "               wind          rain  \n",
       "count  4.490000e+02  4.490000e+02  \n",
       "mean  -2.744649e-17  1.149786e-16  \n",
       "std    1.000000e+00  1.000000e+00  \n",
       "min   -1.798906e+00 -7.856529e-02  \n",
       "25%   -7.715771e-01 -7.856529e-02  \n",
       "50%   -2.961738e-02 -7.856529e-02  \n",
       "75%    4.840471e-01 -7.856529e-02  \n",
       "max    3.052369e+00  2.007904e+01  "
      ]
     },
     "execution_count": 8,
     "metadata": {},
     "output_type": "execute_result"
    }
   ],
   "source": [
    "fdata.describe()"
   ]
  },
  {
   "cell_type": "markdown",
   "metadata": {},
   "source": []
  },
  {
   "cell_type": "code",
   "execution_count": 9,
   "metadata": {},
   "outputs": [],
   "source": [
    "\n",
    "y=(y+1)\n",
    "    \n",
    "y= numpy.log(y)\n",
    "#y=numpy.log(1+y)\n",
    "#y.describe("
   ]
  },
  {
   "cell_type": "code",
   "execution_count": 10,
   "metadata": {},
   "outputs": [
    {
     "data": {
      "text/plain": [
       "<matplotlib.axes._subplots.AxesSubplot at 0x7fa5d3046b70>"
      ]
     },
     "execution_count": 10,
     "metadata": {},
     "output_type": "execute_result"
    },
    {
     "data": {
      "image/png": "[encoded data removed]",
      "text/plain": [
       "<matplotlib.figure.Figure at 0x7fa5d3041ba8>"
      ]
     },
     "metadata": {},
     "output_type": "display_data"
    }
   ],
   "source": [
    "y.hist(figsize=(10,10)) "
   ]
  },
  {
   "cell_type": "code",
   "execution_count": null,
   "metadata": {},
   "outputs": [],
   "source": []
  },
  {
   "cell_type": "code",
   "execution_count": 11,
   "metadata": {},
   "outputs": [
    {
     "name": "stdout",
     "output_type": "stream",
     "text": [
      "(449,)\n"
     ]
    }
   ],
   "source": [
    "\n",
    "print(y.shape)\n",
    "\n",
    "fdata.pop(\"rain\")\n",
    "fdata.pop(\"month\")\n",
    "fdata.pop(\"day\")\n",
    "\n",
    "\n",
    "\n",
    "X=fdata"
   ]
  },
  {
   "cell_type": "code",
   "execution_count": 12,
   "metadata": {},
   "outputs": [],
   "source": [
    "X_train, X_test, y_train, y_test = train_test_split(X.values, y.values, test_size=0.2, random_state=40)"
   ]
  },
  {
   "cell_type": "code",
   "execution_count": 13,
   "metadata": {},
   "outputs": [
    {
     "data": {
      "text/plain": [
       "LinearRegression(copy_X=True, fit_intercept=True, n_jobs=1, normalize=False)"
      ]
     },
     "execution_count": 13,
     "metadata": {},
     "output_type": "execute_result"
    }
   ],
   "source": [
    "from sklearn.linear_model import LinearRegression\n",
    "\n",
    "lr_model = LinearRegression()\n",
    "lr_model.fit(X_train, y_train)"
   ]
  },
  {
   "cell_type": "code",
   "execution_count": 14,
   "metadata": {},
   "outputs": [
    {
     "name": "stdout",
     "output_type": "stream",
     "text": [
      "1.2718623780853002\n"
     ]
    }
   ],
   "source": [
    "predictions = lr_model.predict(X_test)\n",
    "#predictions=numpy.expm1(predictions)\n",
    "#predictions=numpy.expm1(predictions)\n",
    "    # Evaluate the model\n",
    "rms = sqrt(mean_squared_error(y_test, predictions))\n",
    "print(rms)"
   ]
  },
  {
   "cell_type": "code",
   "execution_count": 15,
   "metadata": {},
   "outputs": [
    {
     "name": "stdout",
     "output_type": "stream",
     "text": [
      "1.392033080840435\n"
     ]
    }
   ],
   "source": [
    "from sklearn.model_selection import cross_val_score\n",
    "\n",
    "lr_scores = cross_val_score( lr_model, X, y,\n",
    "                         scoring='neg_mean_squared_error', cv=10)\n",
    "\n",
    "lr_rmse_scores = numpy.sqrt(-lr_scores)\n",
    "print(lr_rmse_scores.mean())"
   ]
  },
  {
   "cell_type": "code",
   "execution_count": 16,
   "metadata": {},
   "outputs": [],
   "source": [
    "#print(X.describe())\n",
    "rng = numpy.random.RandomState(10)"
   ]
  },
  {
   "cell_type": "code",
   "execution_count": null,
   "metadata": {},
   "outputs": [],
   "source": []
  },
  {
   "cell_type": "code",
   "execution_count": 17,
   "metadata": {},
   "outputs": [
    {
     "data": {
      "text/plain": [
       "AdaBoostRegressor(base_estimator=DecisionTreeRegressor(criterion='mse', max_depth=6, max_features=None,\n",
       "           max_leaf_nodes=None, min_impurity_decrease=0.0,\n",
       "           min_impurity_split=None, min_samples_leaf=1,\n",
       "           min_samples_split=2, min_weight_fraction_leaf=0.0,\n",
       "           presort=False, random_state=None, splitter='best'),\n",
       "         learning_rate=1.0, loss='linear', n_estimators=50,\n",
       "         random_state=<mtrand.RandomState object at 0x7fa5d8e73708>)"
      ]
     },
     "execution_count": 17,
     "metadata": {},
     "output_type": "execute_result"
    }
   ],
   "source": [
    "\n",
    "clf_1 = AdaBoostRegressor(DecisionTreeRegressor(max_depth=6),\n",
    "                     n_estimators=50, random_state=rng)\n",
    "\n",
    "clf_1.fit(X_train, y_train)\n"
   ]
  },
  {
   "cell_type": "code",
   "execution_count": 18,
   "metadata": {},
   "outputs": [],
   "source": [
    "#X_train, X_test, y_train, y_test = train_test_split(X.values, y.values, test_size=0.2, random_state=19)"
   ]
  },
  {
   "cell_type": "code",
   "execution_count": 19,
   "metadata": {},
   "outputs": [
    {
     "name": "stdout",
     "output_type": "stream",
     "text": [
      "1.3052591781433136\n"
     ]
    }
   ],
   "source": [
    "predictions = clf_1.predict(X_test)\n",
    "#predictions=numpy.expm1(predictions)\n",
    "#predictions=numpy.expm1(predictions)\n",
    "    # Evaluate the model\n",
    "rms = sqrt(mean_squared_error(y_test, predictions))\n",
    "print(rms)"
   ]
  },
  {
   "cell_type": "code",
   "execution_count": 21,
   "metadata": {},
   "outputs": [
    {
     "name": "stdout",
     "output_type": "stream",
     "text": [
      "1.4938320078368756\n"
     ]
    }
   ],
   "source": [
    "from sklearn.model_selection import cross_val_score\n",
    "\n",
    "abr_scores = cross_val_score(clf_1, X, y,\n",
    "                         scoring='neg_mean_squared_error', cv=10)\n",
    "\n",
    "dtr_rmse_scores = numpy.sqrt(-abr_scores)\n",
    "print(dtr_rmse_scores.mean())"
   ]
  },
  {
   "cell_type": "code",
   "execution_count": 22,
   "metadata": {},
   "outputs": [
    {
     "data": {
      "text/plain": [
       "DecisionTreeRegressor(criterion='mse', max_depth=None, max_features=None,\n",
       "           max_leaf_nodes=None, min_impurity_decrease=0.0,\n",
       "           min_impurity_split=None, min_samples_leaf=1,\n",
       "           min_samples_split=2, min_weight_fraction_leaf=0.0,\n",
       "           presort=False, random_state=None, splitter='best')"
      ]
     },
     "execution_count": 22,
     "metadata": {},
     "output_type": "execute_result"
    }
   ],
   "source": [
    "from sklearn.tree import DecisionTreeRegressor\n",
    "\n",
    "clf_2 = DecisionTreeRegressor()\n",
    "clf_2.fit(X_train, y_train)"
   ]
  },
  {
   "cell_type": "code",
   "execution_count": 23,
   "metadata": {},
   "outputs": [
    {
     "name": "stdout",
     "output_type": "stream",
     "text": [
      "1.821642912597693\n"
     ]
    }
   ],
   "source": [
    "predictions = clf_2.predict(X_test)\n",
    "#predictions=numpy.expm1(predictions)\n",
    "#predictions=numpy.expm1(predictions)\n",
    "    # Evaluate the model\n",
    "rms = sqrt(mean_squared_error(y_test, predictions))\n",
    "print(rms)"
   ]
  },
  {
   "cell_type": "code",
   "execution_count": 24,
   "metadata": {},
   "outputs": [
    {
     "name": "stdout",
     "output_type": "stream",
     "text": [
      "2.1397631597167655\n"
     ]
    }
   ],
   "source": [
    "from sklearn.model_selection import cross_val_score\n",
    "\n",
    "dtr_scores = cross_val_score(clf_2, X, y,\n",
    "                         scoring='neg_mean_squared_error', cv=10)\n",
    "\n",
    "dtr_rmse_scores = numpy.sqrt(-dtr_scores)\n",
    "print(dtr_rmse_scores.mean())"
   ]
  },
  {
   "cell_type": "code",
   "execution_count": 25,
   "metadata": {
    "colab": {
     "base_uri": "https://localhost:8080/",
     "height": 68
    },
    "colab_type": "code",
    "id": "7XUr16vU3hMe",
    "outputId": "8530a330-39be-4c05-ffb5-304c560242cd"
   },
   "outputs": [],
   "source": [
    "test=pandas.read_csv(\"test.csv\")"
   ]
  },
  {
   "cell_type": "code",
   "execution_count": null,
   "metadata": {},
   "outputs": [],
   "source": [
    "test.columns = [\"Id\", \"x_coord\", \"y_coord\", \"month\", \"day\", \"ffmc\", \"dmc\", \"dc\", \"isi\", \"temp\",\n",
    "              \"rh\", \"wind\", \"rain\" ]"
   ]
  },
  {
   "cell_type": "code",
   "execution_count": null,
   "metadata": {},
   "outputs": [],
   "source": [
    "from sklearn.preprocessing import LabelEncoder, StandardScaler, MinMaxScaler\n",
    "\n",
    "le_month = LabelEncoder()\n",
    "test[\"month\"] = le_month.fit_transform(test[\"month\"])\n",
    "\n",
    "le_day = LabelEncoder()\n",
    "test[\"day\"] = le_day.fit_transform(test[\"day\"])\n",
    "\n"
   ]
  },
  {
   "cell_type": "code",
   "execution_count": null,
   "metadata": {},
   "outputs": [],
   "source": [
    "\n",
    "test.pop(\"rain\")\n",
    "test.pop(\"month\")\n",
    "test.pop(\"day\")\n",
    "test.pop(\"Id\")\n",
    "\n",
    "test = (test - test.mean())/test.std()\n"
   ]
  },
  {
   "cell_type": "code",
   "execution_count": null,
   "metadata": {},
   "outputs": [],
   "source": [
    "predictions = clf.predict(test)\n",
    "predictions=numpy.expm1(predictions)\n",
    "#predictions=numpy.expm1(predictions)\n",
    "    # Evaluate the model\n",
    "#rms = sqrt(mean_squared_error(y, predictions))\n",
    "#model.score(X,Y)\n",
    "\n",
    "    #mae = mean_absolute_error(predictions, Y)\n",
    "   # print(\"%s: %.2f%%\" % (model.metrics_names[1], scores[1]*100))\n",
    "    #results.append(mae)\n",
    "    #names.append(name)\n",
    "    \n",
    "    #msg = \"%s: %f (%f)\" % (name, score, mae)\n",
    "    #print(msg)\n",
    "#print(rms)\n",
    "#predictions"
   ]
  },
  {
   "cell_type": "code",
   "execution_count": null,
   "metadata": {
    "colab": {
     "base_uri": "https://localhost:8080/",
     "height": 914
    },
    "colab_type": "code",
    "id": "9Ry9207EVsEq",
    "outputId": "524af8ee-7dfa-4450-9323-92b5d888a5eb"
   },
   "outputs": [],
   "source": [
    "#ans=pandas.read_csv(\"ans.csv\")\n",
    "ans=pandas.read_csv(\"myteam.csv\")\n",
    "#sampleSubmission = .values\n",
    "# print(ans)\n",
    "\n",
    "#X =sampleSubmission[:,0:1]\n",
    "raw_data={'area' : predictions}\n",
    "#@ID={'Id':X}\n",
    "#ans.insert(1,'area', predictions, allow_duplicates=True)\n",
    "s = pandas.DataFrame(raw_data, columns = ['area'])\n",
    "ans=pandas.concat([ans,s],axis=1)\n",
    "#ans['area'] = predictions\n",
    "ans.to_csv('myteam.csv')"
   ]
  },
  {
   "cell_type": "code",
   "execution_count": null,
   "metadata": {},
   "outputs": [],
   "source": []
  }
 ],
 "metadata": {
  "accelerator": "GPU",
  "colab": {
   "collapsed_sections": [],
   "name": "forest_fire.ipynb",
   "provenance": [],
   "version": "0.3.2"
  },
  "kernelspec": {
   "display_name": "Python 3",
   "language": "python",
   "name": "python3"
  },
  "language_info": {
   "codemirror_mode": {
    "name": "ipython",
    "version": 3
   },
   "file_extension": ".py",
   "mimetype": "text/x-python",
   "name": "python",
   "nbconvert_exporter": "python",
   "pygments_lexer": "ipython3",
   "version": "3.6.4"
  }
 },
 "nbformat": 4,
 "nbformat_minor": 1
}
