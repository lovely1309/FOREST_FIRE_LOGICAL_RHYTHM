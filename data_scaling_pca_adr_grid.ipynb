{
 "cells": [
  {
   "cell_type": "code",
   "execution_count": 113,
   "metadata": {
    "colab": {},
    "colab_type": "code",
    "id": "bUuGwOy4vCR0"
   },
   "outputs": [],
   "source": [
    "import pandas \n",
    "import numpy\n",
    "\n",
    "from sklearn.ensemble import RandomForestRegressor\n",
    "\n",
    "from sklearn.feature_selection import RFE\n",
    "from sklearn.ensemble import ExtraTreesRegressor\n",
    "from sklearn.metrics import mean_squared_error\n",
    "from math import sqrt\n",
    "from sklearn.model_selection import train_test_split\n",
    "\n",
    "import matplotlib.pyplot as plt\n",
    "from pandas.tools.plotting import scatter_matrix\n",
    "from sklearn.preprocessing import MinMaxScaler\n",
    "from sklearn.linear_model import LinearRegression\n",
    "from sklearn.linear_model import Ridge\n",
    "from sklearn.linear_model import Lasso\n",
    "from sklearn.linear_model import ElasticNet\n",
    "from sklearn.ensemble import BaggingRegressor\n",
    "from sklearn.ensemble import AdaBoostRegressor\n",
    "from sklearn.ensemble import RandomForestRegressor\n",
    "from sklearn.ensemble import ExtraTreesRegressor\n",
    "from sklearn.tree import DecisionTreeRegressor\n",
    "from sklearn.decomposition import PCA\n",
    "\n",
    "from sklearn.svm import SVR\n",
    "\n",
    "from sklearn import cross_validation, tree, linear_model\n",
    "from sklearn.model_selection import train_test_split\n",
    "from sklearn.model_selection import cross_val_score\n",
    "from sklearn import ensemble\n",
    "\n",
    "%matplotlib inline"
   ]
  },
  {
   "cell_type": "code",
   "execution_count": 114,
   "metadata": {
    "colab": {},
    "colab_type": "code",
    "id": "Ac1U3ffjvOeF"
   },
   "outputs": [],
   "source": [
    "seed = 7\n",
    "numpy.random.seed(seed)"
   ]
  },
  {
   "cell_type": "code",
   "execution_count": 115,
   "metadata": {
    "colab": {
     "base_uri": "https://localhost:8080/",
     "height": 1105
    },
    "colab_type": "code",
    "id": "631u9UufmJUe",
    "outputId": "c0cb5d30-86d0-4680-9e09-04d04aee8c64"
   },
   "outputs": [],
   "source": [
    "\n",
    "fdata=pandas.read_csv(\"train.csv\")\n"
   ]
  },
  {
   "cell_type": "code",
   "execution_count": 116,
   "metadata": {
    "colab": {},
    "colab_type": "code",
    "id": "V9MHbSkEt-Lj"
   },
   "outputs": [],
   "source": [
    "fdata.columns = [ \"x_coord\", \"y_coord\", \"month\", \"day\", \"ffmc\", \"dmc\", \"dc\", \"isi\", \"temp\",\n",
    "              \"rh\", \"wind\", \"rain\", \"area\" ]\n",
    "\n"
   ]
  },
  {
   "cell_type": "code",
   "execution_count": 117,
   "metadata": {},
   "outputs": [
    {
     "data": {
      "text/plain": [
       "0      0.0\n",
       "1      0.0\n",
       "2      0.2\n",
       "3      0.0\n",
       "4      0.0\n",
       "5      0.0\n",
       "6      0.0\n",
       "7      0.0\n",
       "8      0.0\n",
       "9      0.0\n",
       "10     0.0\n",
       "11     0.0\n",
       "12     0.0\n",
       "13     0.0\n",
       "14     0.0\n",
       "15     0.0\n",
       "16     0.0\n",
       "17     0.0\n",
       "18     0.0\n",
       "19     0.0\n",
       "20     0.0\n",
       "21     0.0\n",
       "22     0.0\n",
       "23     0.0\n",
       "24     0.0\n",
       "25     0.0\n",
       "26     0.0\n",
       "27     0.0\n",
       "28     0.0\n",
       "29     0.0\n",
       "      ... \n",
       "419    0.0\n",
       "420    0.0\n",
       "421    0.0\n",
       "422    0.0\n",
       "423    0.0\n",
       "424    0.0\n",
       "425    0.0\n",
       "426    0.0\n",
       "427    6.4\n",
       "428    0.8\n",
       "429    0.8\n",
       "430    0.4\n",
       "431    0.0\n",
       "432    0.0\n",
       "433    0.0\n",
       "434    0.0\n",
       "435    0.0\n",
       "436    0.0\n",
       "437    1.4\n",
       "438    0.0\n",
       "439    0.0\n",
       "440    0.0\n",
       "441    0.0\n",
       "442    0.0\n",
       "443    0.0\n",
       "444    0.0\n",
       "445    0.0\n",
       "446    0.0\n",
       "447    0.0\n",
       "448    0.0\n",
       "Name: rain, Length: 449, dtype: float64"
      ]
     },
     "execution_count": 117,
     "metadata": {},
     "output_type": "execute_result"
    }
   ],
   "source": [
    "from sklearn.preprocessing import LabelEncoder\n",
    "\n",
    "le_month = LabelEncoder()\n",
    "fdata[\"month\"] = le_month.fit_transform(fdata[\"month\"])\n",
    "\n",
    "le_day = LabelEncoder()\n",
    "fdata[\"day\"] = le_day.fit_transform(fdata[\"day\"])\n",
    "fdata.pop(\"rain\")"
   ]
  },
  {
   "cell_type": "code",
   "execution_count": 118,
   "metadata": {},
   "outputs": [
    {
     "data": {
      "text/html": [
       "<div>\n",
       "<style scoped>\n",
       "    .dataframe tbody tr th:only-of-type {\n",
       "        vertical-align: middle;\n",
       "    }\n",
       "\n",
       "    .dataframe tbody tr th {\n",
       "        vertical-align: top;\n",
       "    }\n",
       "\n",
       "    .dataframe thead th {\n",
       "        text-align: right;\n",
       "    }\n",
       "</style>\n",
       "<table border=\"1\" class=\"dataframe\">\n",
       "  <thead>\n",
       "    <tr style=\"text-align: right;\">\n",
       "      <th></th>\n",
       "      <th>x_coord</th>\n",
       "      <th>y_coord</th>\n",
       "      <th>month</th>\n",
       "      <th>day</th>\n",
       "      <th>ffmc</th>\n",
       "      <th>dmc</th>\n",
       "      <th>dc</th>\n",
       "      <th>isi</th>\n",
       "      <th>temp</th>\n",
       "      <th>rh</th>\n",
       "      <th>wind</th>\n",
       "    </tr>\n",
       "  </thead>\n",
       "  <tbody>\n",
       "    <tr>\n",
       "      <th>0</th>\n",
       "      <td>1.014859</td>\n",
       "      <td>0.565490</td>\n",
       "      <td>0.453343</td>\n",
       "      <td>-1.431210</td>\n",
       "      <td>-0.819008</td>\n",
       "      <td>-1.305249</td>\n",
       "      <td>-1.816799</td>\n",
       "      <td>-0.865302</td>\n",
       "      <td>-1.845231</td>\n",
       "      <td>0.392644</td>\n",
       "      <td>1.511376</td>\n",
       "    </tr>\n",
       "    <tr>\n",
       "      <th>1</th>\n",
       "      <td>1.014859</td>\n",
       "      <td>-0.245708</td>\n",
       "      <td>0.964136</td>\n",
       "      <td>1.147495</td>\n",
       "      <td>-0.018636</td>\n",
       "      <td>-1.165781</td>\n",
       "      <td>0.486415</td>\n",
       "      <td>-0.520945</td>\n",
       "      <td>-0.170855</td>\n",
       "      <td>-0.714983</td>\n",
       "      <td>-1.798906</td>\n",
       "    </tr>\n",
       "    <tr>\n",
       "      <th>2</th>\n",
       "      <td>1.443122</td>\n",
       "      <td>1.376689</td>\n",
       "      <td>0.453343</td>\n",
       "      <td>-1.431210</td>\n",
       "      <td>0.181457</td>\n",
       "      <td>-1.197616</td>\n",
       "      <td>-1.884116</td>\n",
       "      <td>-0.025932</td>\n",
       "      <td>-1.828145</td>\n",
       "      <td>3.223248</td>\n",
       "      <td>-0.029617</td>\n",
       "    </tr>\n",
       "    <tr>\n",
       "      <th>3</th>\n",
       "      <td>1.443122</td>\n",
       "      <td>1.376689</td>\n",
       "      <td>-1.079036</td>\n",
       "      <td>0.116013</td>\n",
       "      <td>0.290599</td>\n",
       "      <td>-0.409318</td>\n",
       "      <td>-0.239250</td>\n",
       "      <td>1.200839</td>\n",
       "      <td>0.546735</td>\n",
       "      <td>-0.961122</td>\n",
       "      <td>0.769416</td>\n",
       "    </tr>\n",
       "    <tr>\n",
       "      <th>4</th>\n",
       "      <td>1.443122</td>\n",
       "      <td>1.376689</td>\n",
       "      <td>-1.079036</td>\n",
       "      <td>-0.915469</td>\n",
       "      <td>0.290599</td>\n",
       "      <td>-0.354744</td>\n",
       "      <td>-0.208797</td>\n",
       "      <td>-0.133544</td>\n",
       "      <td>0.871359</td>\n",
       "      <td>-1.084192</td>\n",
       "      <td>-0.543282</td>\n",
       "    </tr>\n",
       "  </tbody>\n",
       "</table>\n",
       "</div>"
      ],
      "text/plain": [
       "    x_coord   y_coord     month       day      ffmc       dmc        dc  \\\n",
       "0  1.014859  0.565490  0.453343 -1.431210 -0.819008 -1.305249 -1.816799   \n",
       "1  1.014859 -0.245708  0.964136  1.147495 -0.018636 -1.165781  0.486415   \n",
       "2  1.443122  1.376689  0.453343 -1.431210  0.181457 -1.197616 -1.884116   \n",
       "3  1.443122  1.376689 -1.079036  0.116013  0.290599 -0.409318 -0.239250   \n",
       "4  1.443122  1.376689 -1.079036 -0.915469  0.290599 -0.354744 -0.208797   \n",
       "\n",
       "        isi      temp        rh      wind  \n",
       "0 -0.865302 -1.845231  0.392644  1.511376  \n",
       "1 -0.520945 -0.170855 -0.714983 -1.798906  \n",
       "2 -0.025932 -1.828145  3.223248 -0.029617  \n",
       "3  1.200839  0.546735 -0.961122  0.769416  \n",
       "4 -0.133544  0.871359 -1.084192 -0.543282  "
      ]
     },
     "execution_count": 118,
     "metadata": {},
     "output_type": "execute_result"
    }
   ],
   "source": [
    "y = fdata.pop(\"area\")\n",
    "fdata=fdata-fdata.mean()\n",
    "fdata=fdata/fdata.std()\n",
    "fdata.head()"
   ]
  },
  {
   "cell_type": "code",
   "execution_count": 119,
   "metadata": {},
   "outputs": [
    {
     "data": {
      "text/html": [
       "<div>\n",
       "<style scoped>\n",
       "    .dataframe tbody tr th:only-of-type {\n",
       "        vertical-align: middle;\n",
       "    }\n",
       "\n",
       "    .dataframe tbody tr th {\n",
       "        vertical-align: top;\n",
       "    }\n",
       "\n",
       "    .dataframe thead th {\n",
       "        text-align: right;\n",
       "    }\n",
       "</style>\n",
       "<table border=\"1\" class=\"dataframe\">\n",
       "  <thead>\n",
       "    <tr style=\"text-align: right;\">\n",
       "      <th></th>\n",
       "      <th>PCA_1</th>\n",
       "      <th>PCA_2</th>\n",
       "      <th>PCA_3</th>\n",
       "    </tr>\n",
       "  </thead>\n",
       "  <tbody>\n",
       "    <tr>\n",
       "      <th>0</th>\n",
       "      <td>3.476229</td>\n",
       "      <td>0.881149</td>\n",
       "      <td>0.382137</td>\n",
       "    </tr>\n",
       "    <tr>\n",
       "      <th>1</th>\n",
       "      <td>0.131486</td>\n",
       "      <td>-0.362108</td>\n",
       "      <td>-1.203728</td>\n",
       "    </tr>\n",
       "    <tr>\n",
       "      <th>2</th>\n",
       "      <td>3.326372</td>\n",
       "      <td>2.155000</td>\n",
       "      <td>-0.635142</td>\n",
       "    </tr>\n",
       "    <tr>\n",
       "      <th>3</th>\n",
       "      <td>-0.609451</td>\n",
       "      <td>2.253027</td>\n",
       "      <td>1.095524</td>\n",
       "    </tr>\n",
       "    <tr>\n",
       "      <th>4</th>\n",
       "      <td>-0.388539</td>\n",
       "      <td>1.712462</td>\n",
       "      <td>-0.354935</td>\n",
       "    </tr>\n",
       "  </tbody>\n",
       "</table>\n",
       "</div>"
      ],
      "text/plain": [
       "      PCA_1     PCA_2     PCA_3\n",
       "0  3.476229  0.881149  0.382137\n",
       "1  0.131486 -0.362108 -1.203728\n",
       "2  3.326372  2.155000 -0.635142\n",
       "3 -0.609451  2.253027  1.095524\n",
       "4 -0.388539  1.712462 -0.354935"
      ]
     },
     "execution_count": 119,
     "metadata": {},
     "output_type": "execute_result"
    }
   ],
   "source": [
    "# Principal Component Analysis\n",
    "pca = PCA(n_components=3)\n",
    "ugriz = pca.fit_transform(fdata)\n",
    "# update dataframe \n",
    "df_fe = pandas.concat((fdata, pandas.DataFrame(ugriz)), axis=1)\n",
    "df_fe.rename({0: 'PCA_1', 1: 'PCA_2', 2: 'PCA_3'}, axis=1, inplace = True)\n",
    "df_fe.drop([ \"x_coord\", \"y_coord\", \"month\", \"day\", \"ffmc\", \"dmc\", \"dc\", \"isi\", \"temp\",\n",
    "              \"rh\", \"wind\"], axis=1, inplace=True)\n",
    "df_fe.head()"
   ]
  },
  {
   "cell_type": "code",
   "execution_count": 120,
   "metadata": {},
   "outputs": [],
   "source": [
    "\n",
    "y=(y+1)\n",
    "    \n",
    "y= numpy.log(y)\n"
   ]
  },
  {
   "cell_type": "code",
   "execution_count": 121,
   "metadata": {},
   "outputs": [],
   "source": [
    "\n",
    "\n",
    "\n",
    "\n",
    "\n",
    "X=df_fe"
   ]
  },
  {
   "cell_type": "code",
   "execution_count": 122,
   "metadata": {},
   "outputs": [],
   "source": [
    "X_train, X_test, y_train, y_test = train_test_split(X.values, y.values, test_size=0.2, random_state=40)"
   ]
  },
  {
   "cell_type": "code",
   "execution_count": 123,
   "metadata": {},
   "outputs": [
    {
     "data": {
      "text/plain": [
       "LinearRegression(copy_X=True, fit_intercept=True, n_jobs=1, normalize=False)"
      ]
     },
     "execution_count": 123,
     "metadata": {},
     "output_type": "execute_result"
    }
   ],
   "source": [
    "from sklearn.linear_model import LinearRegression\n",
    "\n",
    "lr_model = LinearRegression()\n",
    "lr_model.fit(X_train, y_train)"
   ]
  },
  {
   "cell_type": "code",
   "execution_count": 124,
   "metadata": {},
   "outputs": [
    {
     "name": "stdout",
     "output_type": "stream",
     "text": [
      "1.2432897928453404\n"
     ]
    }
   ],
   "source": [
    "predictions = lr_model.predict(X_test)\n",
    "#predictions=numpy.expm1(predictions)\n",
    "#predictions=numpy.expm1(predictions)\n",
    "    # Evaluate the model\n",
    "rms = sqrt(mean_squared_error(y_test, predictions))\n",
    "print(rms)"
   ]
  },
  {
   "cell_type": "code",
   "execution_count": 125,
   "metadata": {},
   "outputs": [
    {
     "name": "stdout",
     "output_type": "stream",
     "text": [
      "1.3468933395073706\n"
     ]
    }
   ],
   "source": [
    "from sklearn.model_selection import cross_val_score\n",
    "\n",
    "lr_scores = cross_val_score( lr_model, X, y,\n",
    "                         scoring='neg_mean_squared_error', cv=10)\n",
    "\n",
    "lr_rmse_scores = numpy.sqrt(-lr_scores)\n",
    "print(lr_rmse_scores.mean())"
   ]
  },
  {
   "cell_type": "code",
   "execution_count": 126,
   "metadata": {},
   "outputs": [],
   "source": [
    "#print(X.describe())\n",
    "rng = numpy.random.RandomState(10)"
   ]
  },
  {
   "cell_type": "code",
   "execution_count": 165,
   "metadata": {},
   "outputs": [
    {
     "name": "stderr",
     "output_type": "stream",
     "text": [
      "/home/saurabh/anaconda3/lib/python3.6/site-packages/sklearn/grid_search.py:42: DeprecationWarning: This module was deprecated in version 0.18 in favor of the model_selection module into which all the refactored classes and functions are moved. This module will be removed in 0.20.\n",
      "  DeprecationWarning)\n"
     ]
    },
    {
     "name": "stdout",
     "output_type": "stream",
     "text": [
      "Best parameters of Adaboost  {'n_estimators': 100}\n",
      "Best scrore of Adaboost : -0.21305451371571446\n"
     ]
    }
   ],
   "source": [
    "from sklearn.grid_search import GridSearchCV\n",
    "clf_1 = AdaBoostRegressor(DecisionTreeRegressor(max_depth=10),\n",
    "                     n_estimators=65, random_state=rng,learning_rate=0.01)\n",
    "param_grid = {\"n_estimators\" : [1, 10, 50, 100, 200, 300, 400, 500, 600]}\n",
    "grid_search = GridSearchCV(clf_1, param_grid=param_grid, cv=10)\n",
    "grid_search.fit(X_train, y_train)\n",
    "print('Best parameters of Adaboost ' , grid_search.best_params_)\n",
    "print('Best scrore of Adaboost :', grid_search.best_score_)\n",
    "\n"
   ]
  },
  {
   "cell_type": "code",
   "execution_count": 162,
   "metadata": {},
   "outputs": [
    {
     "name": "stdout",
     "output_type": "stream",
     "text": [
      "1.3409912098808752\n"
     ]
    }
   ],
   "source": [
    "predictions = clf_1.predict(X_test)\n",
    "#predictions=numpy.expm1(predictions)\n",
    "#predictions=numpy.expm1(predictions)\n",
    "    # Evaluate the model\n",
    "rms = sqrt(mean_squared_error(y_test, predictions))\n",
    "print(rms)"
   ]
  },
  {
   "cell_type": "code",
   "execution_count": 129,
   "metadata": {},
   "outputs": [
    {
     "data": {
      "text/plain": [
       "DecisionTreeRegressor(criterion='mse', max_depth=None, max_features=None,\n",
       "           max_leaf_nodes=None, min_impurity_decrease=0.0,\n",
       "           min_impurity_split=None, min_samples_leaf=1,\n",
       "           min_samples_split=2, min_weight_fraction_leaf=0.0,\n",
       "           presort=False, random_state=None, splitter='best')"
      ]
     },
     "execution_count": 129,
     "metadata": {},
     "output_type": "execute_result"
    }
   ],
   "source": [
    "from sklearn.tree import DecisionTreeRegressor\n",
    "\n",
    "clf_2 = DecisionTreeRegressor()\n",
    "clf_2.fit(X_train, y_train)"
   ]
  },
  {
   "cell_type": "code",
   "execution_count": 130,
   "metadata": {},
   "outputs": [
    {
     "name": "stdout",
     "output_type": "stream",
     "text": [
      "1.8648806997471705\n"
     ]
    }
   ],
   "source": [
    "predictions = clf_2.predict(X_test)\n",
    "#predictions=numpy.expm1(predictions)\n",
    "#predictions=numpy.expm1(predictions)\n",
    "    # Evaluate the model\n",
    "rms = sqrt(mean_squared_error(y_test, predictions))\n",
    "print(rms)"
   ]
  },
  {
   "cell_type": "code",
   "execution_count": 131,
   "metadata": {},
   "outputs": [
    {
     "name": "stdout",
     "output_type": "stream",
     "text": [
      "1.8683350754657475\n"
     ]
    }
   ],
   "source": [
    "from sklearn.model_selection import cross_val_score\n",
    "\n",
    "dtr_scores = cross_val_score(clf_2, X, y,\n",
    "                         scoring='neg_mean_squared_error', cv=10)\n",
    "\n",
    "dtr_rmse_scores = numpy.sqrt(-dtr_scores)\n",
    "print(dtr_rmse_scores.mean())"
   ]
  },
  {
   "cell_type": "code",
   "execution_count": 132,
   "metadata": {
    "colab": {
     "base_uri": "https://localhost:8080/",
     "height": 68
    },
    "colab_type": "code",
    "id": "7XUr16vU3hMe",
    "outputId": "8530a330-39be-4c05-ffb5-304c560242cd"
   },
   "outputs": [],
   "source": [
    "test=pandas.read_csv(\"test.csv\")"
   ]
  },
  {
   "cell_type": "code",
   "execution_count": 133,
   "metadata": {},
   "outputs": [],
   "source": [
    "test.columns = [\"Id\", \"x_coord\", \"y_coord\", \"month\", \"day\", \"ffmc\", \"dmc\", \"dc\", \"isi\", \"temp\",\n",
    "              \"rh\", \"wind\",\"rain\"]"
   ]
  },
  {
   "cell_type": "code",
   "execution_count": 134,
   "metadata": {},
   "outputs": [
    {
     "data": {
      "text/plain": [
       "0     0\n",
       "1     0\n",
       "2     0\n",
       "3     0\n",
       "4     0\n",
       "5     0\n",
       "6     0\n",
       "7     0\n",
       "8     0\n",
       "9     0\n",
       "10    0\n",
       "11    0\n",
       "12    0\n",
       "13    0\n",
       "14    0\n",
       "15    0\n",
       "16    0\n",
       "17    0\n",
       "18    0\n",
       "19    0\n",
       "20    0\n",
       "21    0\n",
       "22    0\n",
       "23    0\n",
       "24    0\n",
       "25    0\n",
       "26    0\n",
       "27    0\n",
       "28    0\n",
       "29    0\n",
       "     ..\n",
       "37    0\n",
       "38    0\n",
       "39    0\n",
       "40    0\n",
       "41    0\n",
       "42    0\n",
       "43    0\n",
       "44    0\n",
       "45    0\n",
       "46    0\n",
       "47    0\n",
       "48    0\n",
       "49    0\n",
       "50    0\n",
       "51    0\n",
       "52    0\n",
       "53    0\n",
       "54    0\n",
       "55    0\n",
       "56    0\n",
       "57    0\n",
       "58    0\n",
       "59    0\n",
       "60    0\n",
       "61    0\n",
       "62    0\n",
       "63    0\n",
       "64    0\n",
       "65    0\n",
       "66    0\n",
       "Name: rain, Length: 67, dtype: int64"
      ]
     },
     "execution_count": 134,
     "metadata": {},
     "output_type": "execute_result"
    }
   ],
   "source": [
    "from sklearn.preprocessing import LabelEncoder\n",
    "\n",
    "le_month = LabelEncoder()\n",
    "test[\"month\"] = le_month.fit_transform(test[\"month\"])\n",
    "\n",
    "le_day = LabelEncoder()\n",
    "test[\"day\"] = le_day.fit_transform(test[\"day\"])\n",
    "\n",
    "test.pop(\"rain\")"
   ]
  },
  {
   "cell_type": "code",
   "execution_count": 135,
   "metadata": {},
   "outputs": [
    {
     "data": {
      "text/html": [
       "<div>\n",
       "<style scoped>\n",
       "    .dataframe tbody tr th:only-of-type {\n",
       "        vertical-align: middle;\n",
       "    }\n",
       "\n",
       "    .dataframe tbody tr th {\n",
       "        vertical-align: top;\n",
       "    }\n",
       "\n",
       "    .dataframe thead th {\n",
       "        text-align: right;\n",
       "    }\n",
       "</style>\n",
       "<table border=\"1\" class=\"dataframe\">\n",
       "  <thead>\n",
       "    <tr style=\"text-align: right;\">\n",
       "      <th></th>\n",
       "      <th>x_coord</th>\n",
       "      <th>y_coord</th>\n",
       "      <th>month</th>\n",
       "      <th>day</th>\n",
       "      <th>ffmc</th>\n",
       "      <th>dmc</th>\n",
       "      <th>dc</th>\n",
       "      <th>isi</th>\n",
       "      <th>temp</th>\n",
       "      <th>rh</th>\n",
       "      <th>wind</th>\n",
       "    </tr>\n",
       "  </thead>\n",
       "  <tbody>\n",
       "    <tr>\n",
       "      <th>0</th>\n",
       "      <td>0.985834</td>\n",
       "      <td>-0.209635</td>\n",
       "      <td>0.573502</td>\n",
       "      <td>-0.253046</td>\n",
       "      <td>0.070840</td>\n",
       "      <td>-1.191830</td>\n",
       "      <td>0.579906</td>\n",
       "      <td>-0.409444</td>\n",
       "      <td>-0.633635</td>\n",
       "      <td>-0.557615</td>\n",
       "      <td>-1.210584</td>\n",
       "    </tr>\n",
       "    <tr>\n",
       "      <th>1</th>\n",
       "      <td>1.450981</td>\n",
       "      <td>1.442779</td>\n",
       "      <td>-1.331852</td>\n",
       "      <td>-0.799953</td>\n",
       "      <td>0.228466</td>\n",
       "      <td>0.975102</td>\n",
       "      <td>0.253111</td>\n",
       "      <td>0.622832</td>\n",
       "      <td>-1.857187</td>\n",
       "      <td>2.610531</td>\n",
       "      <td>-0.770305</td>\n",
       "    </tr>\n",
       "    <tr>\n",
       "      <th>2</th>\n",
       "      <td>1.450981</td>\n",
       "      <td>1.442779</td>\n",
       "      <td>0.891061</td>\n",
       "      <td>1.387674</td>\n",
       "      <td>0.140896</td>\n",
       "      <td>0.636319</td>\n",
       "      <td>0.603575</td>\n",
       "      <td>-0.332023</td>\n",
       "      <td>-0.911715</td>\n",
       "      <td>1.235675</td>\n",
       "      <td>0.795130</td>\n",
       "    </tr>\n",
       "    <tr>\n",
       "      <th>3</th>\n",
       "      <td>0.520687</td>\n",
       "      <td>0.616572</td>\n",
       "      <td>0.891061</td>\n",
       "      <td>-1.346860</td>\n",
       "      <td>0.543717</td>\n",
       "      <td>0.885612</td>\n",
       "      <td>0.692022</td>\n",
       "      <td>1.448652</td>\n",
       "      <td>0.905074</td>\n",
       "      <td>0.099925</td>\n",
       "      <td>0.795130</td>\n",
       "    </tr>\n",
       "    <tr>\n",
       "      <th>4</th>\n",
       "      <td>0.985834</td>\n",
       "      <td>-0.209635</td>\n",
       "      <td>0.891061</td>\n",
       "      <td>-0.799953</td>\n",
       "      <td>0.123382</td>\n",
       "      <td>0.572398</td>\n",
       "      <td>0.578245</td>\n",
       "      <td>-0.332023</td>\n",
       "      <td>0.256221</td>\n",
       "      <td>0.339030</td>\n",
       "      <td>-1.210584</td>\n",
       "    </tr>\n",
       "  </tbody>\n",
       "</table>\n",
       "</div>"
      ],
      "text/plain": [
       "    x_coord   y_coord     month       day      ffmc       dmc        dc  \\\n",
       "0  0.985834 -0.209635  0.573502 -0.253046  0.070840 -1.191830  0.579906   \n",
       "1  1.450981  1.442779 -1.331852 -0.799953  0.228466  0.975102  0.253111   \n",
       "2  1.450981  1.442779  0.891061  1.387674  0.140896  0.636319  0.603575   \n",
       "3  0.520687  0.616572  0.891061 -1.346860  0.543717  0.885612  0.692022   \n",
       "4  0.985834 -0.209635  0.891061 -0.799953  0.123382  0.572398  0.578245   \n",
       "\n",
       "        isi      temp        rh      wind  \n",
       "0 -0.409444 -0.633635 -0.557615 -1.210584  \n",
       "1  0.622832 -1.857187  2.610531 -0.770305  \n",
       "2 -0.332023 -0.911715  1.235675  0.795130  \n",
       "3  1.448652  0.905074  0.099925  0.795130  \n",
       "4 -0.332023  0.256221  0.339030 -1.210584  "
      ]
     },
     "execution_count": 135,
     "metadata": {},
     "output_type": "execute_result"
    }
   ],
   "source": [
    "\n",
    "\n",
    "test.pop(\"Id\")\n",
    "test=test-test.mean()\n",
    "test=test/test.std()\n",
    "test.head()"
   ]
  },
  {
   "cell_type": "code",
   "execution_count": 136,
   "metadata": {},
   "outputs": [
    {
     "data": {
      "text/html": [
       "<div>\n",
       "<style scoped>\n",
       "    .dataframe tbody tr th:only-of-type {\n",
       "        vertical-align: middle;\n",
       "    }\n",
       "\n",
       "    .dataframe tbody tr th {\n",
       "        vertical-align: top;\n",
       "    }\n",
       "\n",
       "    .dataframe thead th {\n",
       "        text-align: right;\n",
       "    }\n",
       "</style>\n",
       "<table border=\"1\" class=\"dataframe\">\n",
       "  <thead>\n",
       "    <tr style=\"text-align: right;\">\n",
       "      <th></th>\n",
       "      <th>PCA_1</th>\n",
       "      <th>PCA_2</th>\n",
       "      <th>PCA_3</th>\n",
       "    </tr>\n",
       "  </thead>\n",
       "  <tbody>\n",
       "    <tr>\n",
       "      <th>0</th>\n",
       "      <td>0.536180</td>\n",
       "      <td>0.385638</td>\n",
       "      <td>-1.179854</td>\n",
       "    </tr>\n",
       "    <tr>\n",
       "      <th>1</th>\n",
       "      <td>0.902645</td>\n",
       "      <td>1.801226</td>\n",
       "      <td>2.910436</td>\n",
       "    </tr>\n",
       "    <tr>\n",
       "      <th>2</th>\n",
       "      <td>0.476997</td>\n",
       "      <td>1.764179</td>\n",
       "      <td>0.010823</td>\n",
       "    </tr>\n",
       "    <tr>\n",
       "      <th>3</th>\n",
       "      <td>-1.739635</td>\n",
       "      <td>-0.194320</td>\n",
       "      <td>0.056221</td>\n",
       "    </tr>\n",
       "    <tr>\n",
       "      <th>4</th>\n",
       "      <td>-0.610931</td>\n",
       "      <td>0.531070</td>\n",
       "      <td>-0.452547</td>\n",
       "    </tr>\n",
       "  </tbody>\n",
       "</table>\n",
       "</div>"
      ],
      "text/plain": [
       "      PCA_1     PCA_2     PCA_3\n",
       "0  0.536180  0.385638 -1.179854\n",
       "1  0.902645  1.801226  2.910436\n",
       "2  0.476997  1.764179  0.010823\n",
       "3 -1.739635 -0.194320  0.056221\n",
       "4 -0.610931  0.531070 -0.452547"
      ]
     },
     "execution_count": 136,
     "metadata": {},
     "output_type": "execute_result"
    }
   ],
   "source": [
    "# Principal Component Analysis\n",
    "pca = PCA(n_components=3)\n",
    "ugriz = pca.fit_transform(test)\n",
    "# update dataframe \n",
    "dft_fe = pandas.concat((test, pandas.DataFrame(ugriz)), axis=1)\n",
    "dft_fe.rename({0: 'PCA_1', 1: 'PCA_2', 2: 'PCA_3'}, axis=1, inplace = True)\n",
    "dft_fe.drop([ \"x_coord\", \"y_coord\", \"month\", \"day\", \"ffmc\", \"dmc\", \"dc\", \"isi\", \"temp\",\n",
    "              \"rh\", \"wind\"], axis=1, inplace=True)\n",
    "dft_fe.head()"
   ]
  },
  {
   "cell_type": "code",
   "execution_count": 137,
   "metadata": {},
   "outputs": [
    {
     "data": {
      "text/plain": [
       "LinearRegression(copy_X=True, fit_intercept=True, n_jobs=1, normalize=False)"
      ]
     },
     "execution_count": 137,
     "metadata": {},
     "output_type": "execute_result"
    }
   ],
   "source": [
    "from sklearn.linear_model import LinearRegression\n",
    "\n",
    "lr_model = LinearRegression()\n",
    "lr_model.fit(X, y)"
   ]
  },
  {
   "cell_type": "code",
   "execution_count": 138,
   "metadata": {},
   "outputs": [],
   "source": [
    "predictions = lr_model.predict(dft_fe)\n",
    "predictions=numpy.expm1(predictions)\n"
   ]
  },
  {
   "cell_type": "code",
   "execution_count": 166,
   "metadata": {},
   "outputs": [
    {
     "data": {
      "text/plain": [
       "AdaBoostRegressor(base_estimator=DecisionTreeRegressor(criterion='mse', max_depth=6, max_features=None,\n",
       "           max_leaf_nodes=None, min_impurity_decrease=0.0,\n",
       "           min_impurity_split=None, min_samples_leaf=1,\n",
       "           min_samples_split=2, min_weight_fraction_leaf=0.0,\n",
       "           presort=False, random_state=None, splitter='best'),\n",
       "         learning_rate=1.0, loss='linear', n_estimators=100,\n",
       "         random_state=<mtrand.RandomState object at 0x7f3aca5ebd38>)"
      ]
     },
     "execution_count": 166,
     "metadata": {},
     "output_type": "execute_result"
    }
   ],
   "source": [
    "\n",
    "adr = AdaBoostRegressor(DecisionTreeRegressor(max_depth=6),\n",
    "                     n_estimators=100, random_state=rng)\n",
    "\n",
    "adr.fit(X, y)\n"
   ]
  },
  {
   "cell_type": "code",
   "execution_count": 167,
   "metadata": {},
   "outputs": [],
   "source": [
    "predictions = adr.predict(dft_fe)\n",
    "predictions=numpy.expm1(predictions)\n"
   ]
  },
  {
   "cell_type": "code",
   "execution_count": 168,
   "metadata": {
    "colab": {
     "base_uri": "https://localhost:8080/",
     "height": 914
    },
    "colab_type": "code",
    "id": "9Ry9207EVsEq",
    "outputId": "524af8ee-7dfa-4450-9323-92b5d888a5eb"
   },
   "outputs": [],
   "source": [
    "#ans=pandas.read_csv(\"ans.csv\")\n",
    "ans=pandas.read_csv(\"myteam_adr.csv\")\n",
    "#sampleSubmission = .values\n",
    "# print(ans)\n",
    "\n",
    "#X =sampleSubmission[:,0:1]\n",
    "raw_data={'area' : predictions}\n",
    "#@ID={'Id':X}\n",
    "#ans.insert(1,'area', predictions, allow_duplicates=True)\n",
    "s = pandas.DataFrame(raw_data, columns = ['area'])\n",
    "ans=pandas.concat([ans,s],axis=1)\n",
    "#ans['area'] = predictions\n",
    "ans.to_csv('myteam_adr.csv')"
   ]
  },
  {
   "cell_type": "code",
   "execution_count": null,
   "metadata": {},
   "outputs": [],
   "source": []
  }
 ],
 "metadata": {
  "accelerator": "GPU",
  "colab": {
   "collapsed_sections": [],
   "name": "forest_fire.ipynb",
   "provenance": [],
   "version": "0.3.2"
  },
  "kernelspec": {
   "display_name": "Python 3",
   "language": "python",
   "name": "python3"
  },
  "language_info": {
   "codemirror_mode": {
    "name": "ipython",
    "version": 3
   },
   "file_extension": ".py",
   "mimetype": "text/x-python",
   "name": "python",
   "nbconvert_exporter": "python",
   "pygments_lexer": "ipython3",
   "version": "3.6.4"
  }
 },
 "nbformat": 4,
 "nbformat_minor": 1
}
